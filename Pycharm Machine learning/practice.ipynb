{
 "cells": [
  {
   "cell_type": "code",
   "execution_count": 6,
   "id": "initial_id",
   "metadata": {
    "collapsed": true,
    "ExecuteTime": {
     "end_time": "2024-03-01T14:32:17.799257Z",
     "start_time": "2024-03-01T14:32:17.794819Z"
    }
   },
   "outputs": [
    {
     "name": "stdout",
     "output_type": "stream",
     "text": [
      "Slope (m): 0.2925531914893617\n",
      "Intercept (b): 1.8936170212765955\n",
      "Predicted Y: [2.18617021 3.06382979 3.94148936 4.52659574 6.28191489]\n"
     ]
    }
   ],
   "source": [
    "import numpy as np\n",
    "from sklearn.linear_model import LinearRegression\n",
    "\n",
    "# Sample data\n",
    "X = np.array([1, 4, 7, 9, 15]).reshape(-1, 1)  # Independent variable\n",
    "Y = np.array([2, 3, 4, 5, 6])                # Dependent variable\n",
    "\n",
    "# Create a linear regression model\n",
    "model = LinearRegression()\n",
    "\n",
    "# Fit the model to the data\n",
    "model.fit(X, Y)\n",
    "\n",
    "# Print the slope (coefficient) and y-intercept\n",
    "print(\"Slope (m):\", model.coef_[0])\n",
    "print(\"Intercept (b):\", model.intercept_)\n",
    "\n",
    "# Predict values using the model\n",
    "predicted_Y = model.predict(X)\n",
    "\n",
    "# Print the predicted values\n",
    "print(\"Predicted Y:\", predicted_Y)\n"
   ]
  },
  {
   "cell_type": "code",
   "outputs": [
    {
     "name": "stdout",
     "output_type": "stream",
     "text": [
      "Process example:\n",
      "Thread example:\n",
      "Worker executing\n"
     ]
    }
   ],
   "source": [
    "import multiprocessing\n",
    "import threading\n",
    "\n",
    "def worker():\n",
    "    print(\"Worker executing\")\n",
    "\n",
    "# Process example\n",
    "def process_example():\n",
    "    process = multiprocessing.Process(target=worker)\n",
    "    process.start()\n",
    "    process.join()\n",
    "\n",
    "# Thread example\n",
    "def thread_example():\n",
    "    thread = threading.Thread(target=worker)\n",
    "    thread.start()\n",
    "    thread.join()\n",
    "\n",
    "if __name__ == \"__main__\":\n",
    "    print(\"Process example:\")\n",
    "    process_example()\n",
    "\n",
    "    print(\"Thread example:\")\n",
    "    thread_example()\n"
   ],
   "metadata": {
    "collapsed": false,
    "ExecuteTime": {
     "end_time": "2024-03-05T05:03:37.468926Z",
     "start_time": "2024-03-05T05:03:37.385776Z"
    }
   },
   "id": "507cac3a11169eba",
   "execution_count": 1
  },
  {
   "cell_type": "code",
   "outputs": [],
   "source": [
    "import venv"
   ],
   "metadata": {
    "collapsed": false,
    "ExecuteTime": {
     "end_time": "2024-03-01T14:32:03.874868Z",
     "start_time": "2024-03-01T14:32:03.872673Z"
    }
   },
   "id": "bb0bd79060790444",
   "execution_count": 4
  },
  {
   "cell_type": "code",
   "outputs": [],
   "source": [
    "# Import the venv module\n",
    "import venv\n",
    "import os\n",
    "# Specify the directory where you want to create the virtual environment\n",
    "env_dir = \"C:\\\\Users\\\\amirmahdi\\\\Desktop\"\n",
    "\n",
    "# Create the virtual environment\n",
    "venv.create(os.getcwd())\n"
   ],
   "metadata": {
    "collapsed": false,
    "ExecuteTime": {
     "end_time": "2024-03-05T08:45:58.992175Z",
     "start_time": "2024-03-05T08:45:58.982455Z"
    }
   },
   "id": "f2cd3b90d1586bb6",
   "execution_count": 1
  },
  {
   "cell_type": "code",
   "outputs": [
    {
     "name": "stdout",
     "output_type": "stream",
     "text": [
      "C:\\Users\\amirmahdi\\Desktop\\machine learning\\Pycharm Machine learning\n"
     ]
    }
   ],
   "source": [
    "print(os.getcwd())"
   ],
   "metadata": {
    "collapsed": false,
    "ExecuteTime": {
     "end_time": "2024-03-05T08:45:18.898172Z",
     "start_time": "2024-03-05T08:45:18.894699Z"
    }
   },
   "id": "179f91efe7e94393",
   "execution_count": 8
  },
  {
   "cell_type": "code",
   "outputs": [],
   "source": [
    "import sys"
   ],
   "metadata": {
    "collapsed": false
   },
   "id": "1983df5c1baf430d"
  }
 ],
 "metadata": {
  "kernelspec": {
   "display_name": "Python 3",
   "language": "python",
   "name": "python3"
  },
  "language_info": {
   "codemirror_mode": {
    "name": "ipython",
    "version": 2
   },
   "file_extension": ".py",
   "mimetype": "text/x-python",
   "name": "python",
   "nbconvert_exporter": "python",
   "pygments_lexer": "ipython2",
   "version": "2.7.6"
  }
 },
 "nbformat": 4,
 "nbformat_minor": 5
}
