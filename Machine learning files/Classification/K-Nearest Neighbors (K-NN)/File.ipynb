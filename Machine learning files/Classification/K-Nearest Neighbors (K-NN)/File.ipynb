{
 "cells": [
  {
   "cell_type": "markdown",
   "source": [
    "Importing Libraries"
   ],
   "metadata": {
    "collapsed": false
   },
   "id": "b3cf7b27917cf0e9"
  },
  {
   "cell_type": "code",
   "outputs": [],
   "source": [
    "from sklearn.model_selection import train_test_split\n",
    "import numpy as np\n",
    "import pandas as pd\n",
    "import matplotlib.pyplot as plt"
   ],
   "metadata": {
    "collapsed": false,
    "ExecuteTime": {
     "end_time": "2024-07-17T13:55:37.514682Z",
     "start_time": "2024-07-17T13:55:36.117282Z"
    }
   },
   "id": "11041fd7c914a270",
   "execution_count": 1
  },
  {
   "cell_type": "markdown",
   "source": [
    "Importing the dataset"
   ],
   "metadata": {
    "collapsed": false
   },
   "id": "cadb06615ed1c56"
  },
  {
   "cell_type": "code",
   "outputs": [],
   "source": [
    "with open('Social_Network_Ads.csv') as r:\n",
    "    my_csv=pd.read_csv(r)\n",
    "x=my_csv.iloc[:,:-1].values\n",
    "y=my_csv.iloc[:,-1].values"
   ],
   "metadata": {
    "collapsed": false,
    "ExecuteTime": {
     "end_time": "2024-07-17T13:55:37.520984Z",
     "start_time": "2024-07-17T13:55:37.515681Z"
    }
   },
   "id": "79d5c807985330e5",
   "execution_count": 2
  },
  {
   "cell_type": "markdown",
   "source": [
    "Splitting data into training and test set"
   ],
   "metadata": {
    "collapsed": false
   },
   "id": "593d972ef35a5a0b"
  },
  {
   "cell_type": "code",
   "outputs": [],
   "source": [
    "x_train,x_test,y_train,y_test=train_test_split(x,y,test_size=0.25)"
   ],
   "metadata": {
    "collapsed": false,
    "ExecuteTime": {
     "end_time": "2024-07-17T13:55:37.524867Z",
     "start_time": "2024-07-17T13:55:37.521985Z"
    }
   },
   "id": "d60e58c0148a541a",
   "execution_count": 3
  },
  {
   "cell_type": "markdown",
   "source": [
    "Feature scaling"
   ],
   "metadata": {
    "collapsed": false
   },
   "id": "d859cd1821e3541a"
  },
  {
   "cell_type": "code",
   "outputs": [],
   "source": [
    "from sklearn.preprocessing import StandardScaler\n",
    "sc=StandardScaler()\n",
    "x_train=sc.fit_transform(x_train)"
   ],
   "metadata": {
    "collapsed": false,
    "ExecuteTime": {
     "end_time": "2024-07-17T13:55:37.529006Z",
     "start_time": "2024-07-17T13:55:37.525868Z"
    }
   },
   "id": "4662ab1b1766f9b3",
   "execution_count": 4
  },
  {
   "cell_type": "markdown",
   "source": [
    "Building the model (K-NN)"
   ],
   "metadata": {
    "collapsed": false
   },
   "id": "8e8fdb8f5acef40c"
  },
  {
   "cell_type": "code",
   "outputs": [
    {
     "data": {
      "text/plain": "KNeighborsClassifier()",
      "text/html": "<style>#sk-container-id-1 {\n  /* Definition of color scheme common for light and dark mode */\n  --sklearn-color-text: black;\n  --sklearn-color-line: gray;\n  /* Definition of color scheme for unfitted estimators */\n  --sklearn-color-unfitted-level-0: #fff5e6;\n  --sklearn-color-unfitted-level-1: #f6e4d2;\n  --sklearn-color-unfitted-level-2: #ffe0b3;\n  --sklearn-color-unfitted-level-3: chocolate;\n  /* Definition of color scheme for fitted estimators */\n  --sklearn-color-fitted-level-0: #f0f8ff;\n  --sklearn-color-fitted-level-1: #d4ebff;\n  --sklearn-color-fitted-level-2: #b3dbfd;\n  --sklearn-color-fitted-level-3: cornflowerblue;\n\n  /* Specific color for light theme */\n  --sklearn-color-text-on-default-background: var(--sg-text-color, var(--theme-code-foreground, var(--jp-content-font-color1, black)));\n  --sklearn-color-background: var(--sg-background-color, var(--theme-background, var(--jp-layout-color0, white)));\n  --sklearn-color-border-box: var(--sg-text-color, var(--theme-code-foreground, var(--jp-content-font-color1, black)));\n  --sklearn-color-icon: #696969;\n\n  @media (prefers-color-scheme: dark) {\n    /* Redefinition of color scheme for dark theme */\n    --sklearn-color-text-on-default-background: var(--sg-text-color, var(--theme-code-foreground, var(--jp-content-font-color1, white)));\n    --sklearn-color-background: var(--sg-background-color, var(--theme-background, var(--jp-layout-color0, #111)));\n    --sklearn-color-border-box: var(--sg-text-color, var(--theme-code-foreground, var(--jp-content-font-color1, white)));\n    --sklearn-color-icon: #878787;\n  }\n}\n\n#sk-container-id-1 {\n  color: var(--sklearn-color-text);\n}\n\n#sk-container-id-1 pre {\n  padding: 0;\n}\n\n#sk-container-id-1 input.sk-hidden--visually {\n  border: 0;\n  clip: rect(1px 1px 1px 1px);\n  clip: rect(1px, 1px, 1px, 1px);\n  height: 1px;\n  margin: -1px;\n  overflow: hidden;\n  padding: 0;\n  position: absolute;\n  width: 1px;\n}\n\n#sk-container-id-1 div.sk-dashed-wrapped {\n  border: 1px dashed var(--sklearn-color-line);\n  margin: 0 0.4em 0.5em 0.4em;\n  box-sizing: border-box;\n  padding-bottom: 0.4em;\n  background-color: var(--sklearn-color-background);\n}\n\n#sk-container-id-1 div.sk-container {\n  /* jupyter's `normalize.less` sets `[hidden] { display: none; }`\n     but bootstrap.min.css set `[hidden] { display: none !important; }`\n     so we also need the `!important` here to be able to override the\n     default hidden behavior on the sphinx rendered scikit-learn.org.\n     See: https://github.com/scikit-learn/scikit-learn/issues/21755 */\n  display: inline-block !important;\n  position: relative;\n}\n\n#sk-container-id-1 div.sk-text-repr-fallback {\n  display: none;\n}\n\ndiv.sk-parallel-item,\ndiv.sk-serial,\ndiv.sk-item {\n  /* draw centered vertical line to link estimators */\n  background-image: linear-gradient(var(--sklearn-color-text-on-default-background), var(--sklearn-color-text-on-default-background));\n  background-size: 2px 100%;\n  background-repeat: no-repeat;\n  background-position: center center;\n}\n\n/* Parallel-specific style estimator block */\n\n#sk-container-id-1 div.sk-parallel-item::after {\n  content: \"\";\n  width: 100%;\n  border-bottom: 2px solid var(--sklearn-color-text-on-default-background);\n  flex-grow: 1;\n}\n\n#sk-container-id-1 div.sk-parallel {\n  display: flex;\n  align-items: stretch;\n  justify-content: center;\n  background-color: var(--sklearn-color-background);\n  position: relative;\n}\n\n#sk-container-id-1 div.sk-parallel-item {\n  display: flex;\n  flex-direction: column;\n}\n\n#sk-container-id-1 div.sk-parallel-item:first-child::after {\n  align-self: flex-end;\n  width: 50%;\n}\n\n#sk-container-id-1 div.sk-parallel-item:last-child::after {\n  align-self: flex-start;\n  width: 50%;\n}\n\n#sk-container-id-1 div.sk-parallel-item:only-child::after {\n  width: 0;\n}\n\n/* Serial-specific style estimator block */\n\n#sk-container-id-1 div.sk-serial {\n  display: flex;\n  flex-direction: column;\n  align-items: center;\n  background-color: var(--sklearn-color-background);\n  padding-right: 1em;\n  padding-left: 1em;\n}\n\n\n/* Toggleable style: style used for estimator/Pipeline/ColumnTransformer box that is\nclickable and can be expanded/collapsed.\n- Pipeline and ColumnTransformer use this feature and define the default style\n- Estimators will overwrite some part of the style using the `sk-estimator` class\n*/\n\n/* Pipeline and ColumnTransformer style (default) */\n\n#sk-container-id-1 div.sk-toggleable {\n  /* Default theme specific background. It is overwritten whether we have a\n  specific estimator or a Pipeline/ColumnTransformer */\n  background-color: var(--sklearn-color-background);\n}\n\n/* Toggleable label */\n#sk-container-id-1 label.sk-toggleable__label {\n  cursor: pointer;\n  display: block;\n  width: 100%;\n  margin-bottom: 0;\n  padding: 0.5em;\n  box-sizing: border-box;\n  text-align: center;\n}\n\n#sk-container-id-1 label.sk-toggleable__label-arrow:before {\n  /* Arrow on the left of the label */\n  content: \"▸\";\n  float: left;\n  margin-right: 0.25em;\n  color: var(--sklearn-color-icon);\n}\n\n#sk-container-id-1 label.sk-toggleable__label-arrow:hover:before {\n  color: var(--sklearn-color-text);\n}\n\n/* Toggleable content - dropdown */\n\n#sk-container-id-1 div.sk-toggleable__content {\n  max-height: 0;\n  max-width: 0;\n  overflow: hidden;\n  text-align: left;\n  /* unfitted */\n  background-color: var(--sklearn-color-unfitted-level-0);\n}\n\n#sk-container-id-1 div.sk-toggleable__content.fitted {\n  /* fitted */\n  background-color: var(--sklearn-color-fitted-level-0);\n}\n\n#sk-container-id-1 div.sk-toggleable__content pre {\n  margin: 0.2em;\n  border-radius: 0.25em;\n  color: var(--sklearn-color-text);\n  /* unfitted */\n  background-color: var(--sklearn-color-unfitted-level-0);\n}\n\n#sk-container-id-1 div.sk-toggleable__content.fitted pre {\n  /* unfitted */\n  background-color: var(--sklearn-color-fitted-level-0);\n}\n\n#sk-container-id-1 input.sk-toggleable__control:checked~div.sk-toggleable__content {\n  /* Expand drop-down */\n  max-height: 200px;\n  max-width: 100%;\n  overflow: auto;\n}\n\n#sk-container-id-1 input.sk-toggleable__control:checked~label.sk-toggleable__label-arrow:before {\n  content: \"▾\";\n}\n\n/* Pipeline/ColumnTransformer-specific style */\n\n#sk-container-id-1 div.sk-label input.sk-toggleable__control:checked~label.sk-toggleable__label {\n  color: var(--sklearn-color-text);\n  background-color: var(--sklearn-color-unfitted-level-2);\n}\n\n#sk-container-id-1 div.sk-label.fitted input.sk-toggleable__control:checked~label.sk-toggleable__label {\n  background-color: var(--sklearn-color-fitted-level-2);\n}\n\n/* Estimator-specific style */\n\n/* Colorize estimator box */\n#sk-container-id-1 div.sk-estimator input.sk-toggleable__control:checked~label.sk-toggleable__label {\n  /* unfitted */\n  background-color: var(--sklearn-color-unfitted-level-2);\n}\n\n#sk-container-id-1 div.sk-estimator.fitted input.sk-toggleable__control:checked~label.sk-toggleable__label {\n  /* fitted */\n  background-color: var(--sklearn-color-fitted-level-2);\n}\n\n#sk-container-id-1 div.sk-label label.sk-toggleable__label,\n#sk-container-id-1 div.sk-label label {\n  /* The background is the default theme color */\n  color: var(--sklearn-color-text-on-default-background);\n}\n\n/* On hover, darken the color of the background */\n#sk-container-id-1 div.sk-label:hover label.sk-toggleable__label {\n  color: var(--sklearn-color-text);\n  background-color: var(--sklearn-color-unfitted-level-2);\n}\n\n/* Label box, darken color on hover, fitted */\n#sk-container-id-1 div.sk-label.fitted:hover label.sk-toggleable__label.fitted {\n  color: var(--sklearn-color-text);\n  background-color: var(--sklearn-color-fitted-level-2);\n}\n\n/* Estimator label */\n\n#sk-container-id-1 div.sk-label label {\n  font-family: monospace;\n  font-weight: bold;\n  display: inline-block;\n  line-height: 1.2em;\n}\n\n#sk-container-id-1 div.sk-label-container {\n  text-align: center;\n}\n\n/* Estimator-specific */\n#sk-container-id-1 div.sk-estimator {\n  font-family: monospace;\n  border: 1px dotted var(--sklearn-color-border-box);\n  border-radius: 0.25em;\n  box-sizing: border-box;\n  margin-bottom: 0.5em;\n  /* unfitted */\n  background-color: var(--sklearn-color-unfitted-level-0);\n}\n\n#sk-container-id-1 div.sk-estimator.fitted {\n  /* fitted */\n  background-color: var(--sklearn-color-fitted-level-0);\n}\n\n/* on hover */\n#sk-container-id-1 div.sk-estimator:hover {\n  /* unfitted */\n  background-color: var(--sklearn-color-unfitted-level-2);\n}\n\n#sk-container-id-1 div.sk-estimator.fitted:hover {\n  /* fitted */\n  background-color: var(--sklearn-color-fitted-level-2);\n}\n\n/* Specification for estimator info (e.g. \"i\" and \"?\") */\n\n/* Common style for \"i\" and \"?\" */\n\n.sk-estimator-doc-link,\na:link.sk-estimator-doc-link,\na:visited.sk-estimator-doc-link {\n  float: right;\n  font-size: smaller;\n  line-height: 1em;\n  font-family: monospace;\n  background-color: var(--sklearn-color-background);\n  border-radius: 1em;\n  height: 1em;\n  width: 1em;\n  text-decoration: none !important;\n  margin-left: 1ex;\n  /* unfitted */\n  border: var(--sklearn-color-unfitted-level-1) 1pt solid;\n  color: var(--sklearn-color-unfitted-level-1);\n}\n\n.sk-estimator-doc-link.fitted,\na:link.sk-estimator-doc-link.fitted,\na:visited.sk-estimator-doc-link.fitted {\n  /* fitted */\n  border: var(--sklearn-color-fitted-level-1) 1pt solid;\n  color: var(--sklearn-color-fitted-level-1);\n}\n\n/* On hover */\ndiv.sk-estimator:hover .sk-estimator-doc-link:hover,\n.sk-estimator-doc-link:hover,\ndiv.sk-label-container:hover .sk-estimator-doc-link:hover,\n.sk-estimator-doc-link:hover {\n  /* unfitted */\n  background-color: var(--sklearn-color-unfitted-level-3);\n  color: var(--sklearn-color-background);\n  text-decoration: none;\n}\n\ndiv.sk-estimator.fitted:hover .sk-estimator-doc-link.fitted:hover,\n.sk-estimator-doc-link.fitted:hover,\ndiv.sk-label-container:hover .sk-estimator-doc-link.fitted:hover,\n.sk-estimator-doc-link.fitted:hover {\n  /* fitted */\n  background-color: var(--sklearn-color-fitted-level-3);\n  color: var(--sklearn-color-background);\n  text-decoration: none;\n}\n\n/* Span, style for the box shown on hovering the info icon */\n.sk-estimator-doc-link span {\n  display: none;\n  z-index: 9999;\n  position: relative;\n  font-weight: normal;\n  right: .2ex;\n  padding: .5ex;\n  margin: .5ex;\n  width: min-content;\n  min-width: 20ex;\n  max-width: 50ex;\n  color: var(--sklearn-color-text);\n  box-shadow: 2pt 2pt 4pt #999;\n  /* unfitted */\n  background: var(--sklearn-color-unfitted-level-0);\n  border: .5pt solid var(--sklearn-color-unfitted-level-3);\n}\n\n.sk-estimator-doc-link.fitted span {\n  /* fitted */\n  background: var(--sklearn-color-fitted-level-0);\n  border: var(--sklearn-color-fitted-level-3);\n}\n\n.sk-estimator-doc-link:hover span {\n  display: block;\n}\n\n/* \"?\"-specific style due to the `<a>` HTML tag */\n\n#sk-container-id-1 a.estimator_doc_link {\n  float: right;\n  font-size: 1rem;\n  line-height: 1em;\n  font-family: monospace;\n  background-color: var(--sklearn-color-background);\n  border-radius: 1rem;\n  height: 1rem;\n  width: 1rem;\n  text-decoration: none;\n  /* unfitted */\n  color: var(--sklearn-color-unfitted-level-1);\n  border: var(--sklearn-color-unfitted-level-1) 1pt solid;\n}\n\n#sk-container-id-1 a.estimator_doc_link.fitted {\n  /* fitted */\n  border: var(--sklearn-color-fitted-level-1) 1pt solid;\n  color: var(--sklearn-color-fitted-level-1);\n}\n\n/* On hover */\n#sk-container-id-1 a.estimator_doc_link:hover {\n  /* unfitted */\n  background-color: var(--sklearn-color-unfitted-level-3);\n  color: var(--sklearn-color-background);\n  text-decoration: none;\n}\n\n#sk-container-id-1 a.estimator_doc_link.fitted:hover {\n  /* fitted */\n  background-color: var(--sklearn-color-fitted-level-3);\n}\n</style><div id=\"sk-container-id-1\" class=\"sk-top-container\"><div class=\"sk-text-repr-fallback\"><pre>KNeighborsClassifier()</pre><b>In a Jupyter environment, please rerun this cell to show the HTML representation or trust the notebook. <br />On GitHub, the HTML representation is unable to render, please try loading this page with nbviewer.org.</b></div><div class=\"sk-container\" hidden><div class=\"sk-item\"><div class=\"sk-estimator fitted sk-toggleable\"><input class=\"sk-toggleable__control sk-hidden--visually\" id=\"sk-estimator-id-1\" type=\"checkbox\" checked><label for=\"sk-estimator-id-1\" class=\"sk-toggleable__label fitted sk-toggleable__label-arrow fitted\">&nbsp;&nbsp;KNeighborsClassifier<a class=\"sk-estimator-doc-link fitted\" rel=\"noreferrer\" target=\"_blank\" href=\"https://scikit-learn.org/1.4/modules/generated/sklearn.neighbors.KNeighborsClassifier.html\">?<span>Documentation for KNeighborsClassifier</span></a><span class=\"sk-estimator-doc-link fitted\">i<span>Fitted</span></span></label><div class=\"sk-toggleable__content fitted\"><pre>KNeighborsClassifier()</pre></div> </div></div></div></div>"
     },
     "execution_count": 5,
     "metadata": {},
     "output_type": "execute_result"
    }
   ],
   "source": [
    "from sklearn.neighbors import KNeighborsClassifier\n",
    "classifier=KNeighborsClassifier()\n",
    "classifier.fit(x_train,y_train)"
   ],
   "metadata": {
    "collapsed": false,
    "ExecuteTime": {
     "end_time": "2024-07-17T13:55:37.607576Z",
     "start_time": "2024-07-17T13:55:37.529006Z"
    }
   },
   "id": "8cb92e1cdb25e941",
   "execution_count": 5
  },
  {
   "cell_type": "markdown",
   "source": [
    "Comparing prediction and real result"
   ],
   "metadata": {
    "collapsed": false
   },
   "id": "bd63dd1a608ceea1"
  },
  {
   "cell_type": "code",
   "outputs": [
    {
     "name": "stdout",
     "output_type": "stream",
     "text": [
      "[[0 0]\n",
      " [0 0]\n",
      " [1 1]\n",
      " [1 1]\n",
      " [1 1]\n",
      " [0 0]\n",
      " [0 0]\n",
      " [1 1]\n",
      " [0 0]\n",
      " [0 0]\n",
      " [0 0]\n",
      " [0 0]\n",
      " [0 0]\n",
      " [0 0]\n",
      " [1 0]\n",
      " [1 1]\n",
      " [0 0]\n",
      " [1 1]\n",
      " [0 0]\n",
      " [0 0]\n",
      " [1 1]\n",
      " [0 0]\n",
      " [1 0]\n",
      " [0 0]\n",
      " [1 1]\n",
      " [1 0]\n",
      " [0 0]\n",
      " [0 0]\n",
      " [0 0]\n",
      " [1 1]\n",
      " [0 0]\n",
      " [0 1]\n",
      " [0 0]\n",
      " [1 1]\n",
      " [0 0]\n",
      " [0 0]\n",
      " [1 1]\n",
      " [0 0]\n",
      " [1 1]\n",
      " [1 0]\n",
      " [1 1]\n",
      " [0 0]\n",
      " [1 1]\n",
      " [0 0]\n",
      " [0 0]\n",
      " [1 1]\n",
      " [0 0]\n",
      " [1 1]\n",
      " [1 1]\n",
      " [0 0]\n",
      " [1 0]\n",
      " [1 1]\n",
      " [0 1]\n",
      " [0 0]\n",
      " [0 0]\n",
      " [0 0]\n",
      " [0 1]\n",
      " [1 1]\n",
      " [0 0]\n",
      " [1 1]\n",
      " [0 0]\n",
      " [1 0]\n",
      " [1 1]\n",
      " [0 0]\n",
      " [1 1]\n",
      " [0 0]\n",
      " [0 0]\n",
      " [1 1]\n",
      " [0 0]\n",
      " [0 0]\n",
      " [0 0]\n",
      " [1 1]\n",
      " [0 0]\n",
      " [0 0]\n",
      " [0 0]\n",
      " [1 1]\n",
      " [1 1]\n",
      " [1 0]\n",
      " [0 0]\n",
      " [1 1]\n",
      " [1 0]\n",
      " [0 0]\n",
      " [1 1]\n",
      " [0 1]\n",
      " [1 1]\n",
      " [0 0]\n",
      " [0 0]\n",
      " [1 1]\n",
      " [0 0]\n",
      " [1 0]\n",
      " [1 0]\n",
      " [0 0]\n",
      " [0 0]\n",
      " [1 1]\n",
      " [0 0]\n",
      " [0 0]\n",
      " [0 0]\n",
      " [0 0]\n",
      " [1 1]\n",
      " [0 0]]\n"
     ]
    }
   ],
   "source": [
    "y_pred=classifier.predict(sc.transform(x_test))\n",
    "print(np.concatenate((y_pred.reshape(-1,1),y_test.reshape(-1,1)),1))"
   ],
   "metadata": {
    "collapsed": false,
    "ExecuteTime": {
     "end_time": "2024-07-17T13:55:37.617696Z",
     "start_time": "2024-07-17T13:55:37.607576Z"
    }
   },
   "id": "ecbeda3e6b48af24",
   "execution_count": 6
  },
  {
   "cell_type": "markdown",
   "source": [
    "Confusion matrix"
   ],
   "metadata": {
    "collapsed": false
   },
   "id": "772b9543ee7b95d1"
  },
  {
   "cell_type": "code",
   "outputs": [
    {
     "name": "stdout",
     "output_type": "stream",
     "text": [
      "[[54 10]\n",
      " [ 4 32]]\n"
     ]
    }
   ],
   "source": [
    "from sklearn.metrics import confusion_matrix\n",
    "cs=confusion_matrix(y_test,y_pred)\n",
    "print(cs)"
   ],
   "metadata": {
    "collapsed": false,
    "ExecuteTime": {
     "end_time": "2024-07-17T13:55:37.621837Z",
     "start_time": "2024-07-17T13:55:37.617696Z"
    }
   },
   "id": "bd8c5ac2de4ad0a7",
   "execution_count": 7
  },
  {
   "cell_type": "markdown",
   "source": [
    "Evaluating score of model"
   ],
   "metadata": {
    "collapsed": false
   },
   "id": "2dd1ab330a62a91"
  },
  {
   "cell_type": "code",
   "outputs": [
    {
     "data": {
      "text/plain": "0.86"
     },
     "execution_count": 8,
     "metadata": {},
     "output_type": "execute_result"
    }
   ],
   "source": [
    "classifier.score(sc.transform(x_test),y_test)"
   ],
   "metadata": {
    "collapsed": false,
    "ExecuteTime": {
     "end_time": "2024-07-17T13:55:37.631650Z",
     "start_time": "2024-07-17T13:55:37.622837Z"
    }
   },
   "id": "bf3f7cd7c4bc06b2",
   "execution_count": 8
  },
  {
   "cell_type": "markdown",
   "source": [
    "Predicting new data"
   ],
   "metadata": {
    "collapsed": false
   },
   "id": "8315ce718a41c27a"
  },
  {
   "cell_type": "code",
   "outputs": [
    {
     "data": {
      "text/plain": "array([0], dtype=int64)"
     },
     "execution_count": 9,
     "metadata": {},
     "output_type": "execute_result"
    }
   ],
   "source": [
    "classifier.predict(sc.transform([[30,44000]]))"
   ],
   "metadata": {
    "collapsed": false,
    "ExecuteTime": {
     "end_time": "2024-07-17T13:55:37.636832Z",
     "start_time": "2024-07-17T13:55:37.632651Z"
    }
   },
   "id": "53f932d8fc6f20b3",
   "execution_count": 9
  },
  {
   "cell_type": "code",
   "outputs": [
    {
     "data": {
      "text/plain": "array([[-0.04531597,  0.2793039 ],\n       [-1.12895866,  0.2793039 ],\n       [-0.73490677,  1.84629278],\n       [-1.32598461, -0.34749166],\n       [ 1.1368397 , -1.20221287],\n       [-0.83341974, -1.20221287],\n       [-0.93193272,  0.53572026],\n       [ 1.72791753,  1.70383925],\n       [ 1.1368397 ,  0.10835966],\n       [-0.14382894, -0.46145448],\n       [ 0.25022295,  0.13685036],\n       [ 0.25022295, -0.26201954],\n       [ 0.84130078, -1.08825004],\n       [-0.04531597,  0.22232248],\n       [-0.73490677,  0.2793039 ],\n       [ 0.93981375, -0.57541731],\n       [-0.04531597,  0.25081319],\n       [ 1.62940456, -0.00560317],\n       [ 1.03832673,  1.81780207],\n       [-1.32598461,  0.39326673],\n       [ 1.43237862,  2.27365339],\n       [-1.12895866,  0.39326673],\n       [ 0.93981375, -1.43013852],\n       [-0.24234191, -0.9173058 ],\n       [-0.04531597, -0.37598236],\n       [ 0.84130078,  1.33346006],\n       [ 0.44724889,  0.2793039 ],\n       [ 0.15170998,  1.81780207],\n       [ 1.62940456, -1.25919428],\n       [ 2.12196942, -1.17372216],\n       [-0.34085488, -0.77485226],\n       [ 1.03832673,  2.01723702],\n       [-0.24234191, -0.57541731],\n       [ 0.44724889, -0.14805671],\n       [ 0.34873592,  0.05137824],\n       [-0.53788083,  2.27365339],\n       [-0.24234191,  0.59270167],\n       [-0.43936786, -0.29051024],\n       [-0.83341974,  2.21667197],\n       [-1.62152352,  0.05137824],\n       [-1.32598461, -1.23070357],\n       [ 0.053197  ,  1.21949723],\n       [-0.73490677, -1.51561064],\n       [ 1.23535267, -0.74636155],\n       [ 1.53089159,  2.07421844],\n       [-0.6363938 , -1.03126862],\n       [-0.83341974,  0.36477602],\n       [ 0.053197  ,  0.02288753],\n       [-0.93193272,  0.39326673],\n       [ 0.34873592, -1.14523145],\n       [ 0.25022295, -0.29051024],\n       [-0.83341974,  0.13685036],\n       [ 0.54576187,  1.78931137],\n       [ 0.15170998,  1.02006228],\n       [ 1.1368397 ,  2.01723702],\n       [-0.04531597,  2.15969056],\n       [ 0.053197  , -0.57541731],\n       [ 0.74278781,  0.25081319],\n       [-0.83341974, -0.77485226],\n       [-0.6363938 , -0.119566  ],\n       [ 1.03832673,  0.56421097],\n       [-0.73490677,  0.53572026],\n       [-1.22747163, -1.05975933],\n       [ 0.44724889,  0.25081319],\n       [ 0.25022295,  0.02288753],\n       [-0.04531597,  0.64968309],\n       [ 1.1368397 , -0.97428721],\n       [ 1.33386564,  1.81780207],\n       [-1.12895866,  0.05137824],\n       [-0.24234191, -0.74636155],\n       [ 0.15170998,  0.13685036],\n       [ 1.72791753, -0.88881509],\n       [-0.93193272, -0.31900095],\n       [-0.14382894,  0.82062733],\n       [-0.24234191,  0.05137824],\n       [-1.42449758, -1.43013852],\n       [ 0.25022295,  0.13685036],\n       [-0.04531597,  2.10270914],\n       [-1.03044569, -1.51561064],\n       [-0.73490677, -0.23352883],\n       [-1.91706244, -0.74636155],\n       [ 0.64427484, -0.88881509],\n       [-1.81854947, -0.00560317],\n       [ 1.92494348, -0.29051024],\n       [-1.03044569,  0.73515521],\n       [ 1.92494348,  1.47591359],\n       [-0.93193272,  0.47873885],\n       [-0.43936786, -1.11674074],\n       [ 1.1368397 , -1.20221287],\n       [-1.81854947, -1.45862923],\n       [-0.04531597, -1.05975933],\n       [-0.24234191, -0.14805671],\n       [-1.72003649,  0.45024814],\n       [ 0.053197  , -0.26201954],\n       [-1.12895866, -1.57259206],\n       [ 0.84130078, -0.83183367],\n       [-0.24234191,  0.02288753],\n       [ 1.33386564,  2.15969056],\n       [-1.03044569,  0.39326673],\n       [ 1.53089159,  0.05137824],\n       [ 0.15170998, -0.80334297],\n       [-0.14382894,  2.10270914],\n       [-0.04531597,  0.10835966],\n       [-0.34085488,  1.19100652],\n       [ 1.23535267, -1.43013852],\n       [-0.24234191, -0.34749166],\n       [-1.03044569, -0.46145448],\n       [ 1.1368397 ,  0.50722955],\n       [-1.81854947,  0.16534107],\n       [ 0.93981375, -0.66088943],\n       [ 0.34873592, -0.29051024],\n       [-0.73490677,  1.04855299],\n       [-0.53788083,  1.84629278],\n       [ 0.93981375,  1.21949723],\n       [-1.52301055, -0.43296378],\n       [ 0.15170998,  0.19383178],\n       [ 2.02345645, -1.3446664 ],\n       [ 0.44724889, -0.46145448],\n       [-0.24234191, -1.3446664 ],\n       [ 0.053197  , -0.57541731],\n       [ 0.44724889,  2.24516268],\n       [-0.53788083, -1.48711993],\n       [ 0.053197  , -0.26201954],\n       [-1.12895866,  1.36195076],\n       [ 0.34873592, -0.5184359 ],\n       [ 2.22048239, -0.80334297],\n       [ 0.74278781,  1.73232995],\n       [ 0.44724889,  0.07986895],\n       [-0.14382894, -0.20503812],\n       [ 0.93981375, -1.03126862],\n       [-1.52301055, -1.23070357],\n       [-1.03044569,  0.56421097],\n       [-0.34085488, -1.28768499],\n       [ 1.1368397 , -0.14805671],\n       [-1.03044569,  0.53572026],\n       [ 0.15170998, -0.26201954],\n       [-1.12895866,  0.3077946 ],\n       [ 0.25022295, -0.37598236],\n       [-0.73490677, -1.57259206],\n       [ 2.22048239,  1.07704369],\n       [-0.24234191, -0.57541731],\n       [-0.24234191,  0.19383178],\n       [-1.52301055,  0.3077946 ],\n       [-1.42449758, -1.20221287],\n       [-0.24234191, -0.66088943],\n       [-0.73490677,  0.47873885],\n       [ 0.84130078, -1.37315711],\n       [ 0.93981375, -0.60390802],\n       [-0.83341974, -0.26201954],\n       [-1.12895866, -1.08825004],\n       [ 1.62940456,  1.07704369],\n       [-0.04531597,  0.2793039 ],\n       [-0.24234191, -0.43296378],\n       [-1.03044569, -0.37598236],\n       [ 0.053197  , -0.14805671],\n       [ 0.34873592,  0.47873885],\n       [ 0.34873592,  0.05137824],\n       [-1.32598461, -1.45862923],\n       [ 0.053197  ,  0.2793039 ],\n       [ 0.54576187,  1.19100652],\n       [-0.43936786, -0.83183367],\n       [-0.53788083,  1.33346006],\n       [-0.43936786,  2.24516268],\n       [-0.53788083,  0.45024814],\n       [ 0.44724889, -0.48994519],\n       [-0.6363938 , -1.57259206],\n       [ 0.74278781, -1.37315711],\n       [-0.93193272,  0.25081319],\n       [-0.24234191,  0.76364592],\n       [-1.52301055, -1.48711993],\n       [-1.22747163,  0.25081319],\n       [-0.93193272, -0.74636155],\n       [ 0.84130078, -1.20221287],\n       [-1.42449758,  0.33628531],\n       [ 1.03832673,  1.39044147],\n       [-0.6363938 , -0.34749166],\n       [-0.6363938 ,  0.02288753],\n       [-0.93193272, -1.08825004],\n       [-0.6363938 ,  1.36195076],\n       [-1.91706244, -0.5184359 ],\n       [-0.83341974, -0.77485226],\n       [ 0.44724889, -0.14805671],\n       [ 0.74278781, -1.08825004],\n       [-0.53788083,  1.33346006],\n       [ 0.64427484,  1.96025561],\n       [ 0.34873592,  0.05137824],\n       [-1.81854947, -1.40164781],\n       [-1.12895866, -1.54410135],\n       [ 0.25022295,  0.22232248],\n       [ 0.93981375, -1.3446664 ],\n       [-0.14382894, -0.57541731],\n       [ 1.43237862, -1.40164781],\n       [ 0.15170998,  1.47591359],\n       [-0.14382894, -0.29051024],\n       [-1.03044569, -0.34749166],\n       [ 2.12196942,  2.07421844],\n       [-1.91706244, -0.06258459],\n       [ 1.1368397 ,  0.53572026],\n       [-0.6363938 ,  0.16534107],\n       [ 0.84130078,  0.10835966],\n       [ 1.53089159,  0.33628531],\n       [ 0.44724889,  0.2793039 ],\n       [-0.6363938 ,  0.10835966],\n       [-1.12895866, -1.57259206],\n       [-1.81854947, -1.28768499],\n       [ 2.12196942,  0.50722955],\n       [-0.04531597,  0.13685036],\n       [-1.52301055, -0.20503812],\n       [-0.14382894, -0.5184359 ],\n       [ 1.8264305 ,  1.78931137],\n       [-0.24234191,  0.13685036],\n       [ 0.44724889,  0.96308086],\n       [-1.42449758, -0.119566  ],\n       [-0.73490677, -0.60390802],\n       [ 1.03832673,  1.9317649 ],\n       [ 1.03832673, -1.05975933],\n       [-0.14382894, -1.05975933],\n       [ 0.93981375,  1.04855299],\n       [-0.83341974,  0.2793039 ],\n       [-0.6363938 ,  0.53572026],\n       [ 0.15170998, -0.31900095],\n       [ 0.44724889, -0.00560317],\n       [-0.14382894,  1.56138571],\n       [ 0.15170998,  0.25081319],\n       [ 1.43237862,  0.56421097],\n       [ 0.34873592, -0.20503812],\n       [ 1.03832673, -1.17372216],\n       [ 1.92494348, -1.25919428],\n       [ 1.03832673, -1.05975933],\n       [-1.12895866, -1.51561064],\n       [-0.93193272, -0.9457965 ],\n       [ 0.34873592, -0.31900095],\n       [-1.91706244,  0.33628531],\n       [-1.72003649,  0.33628531],\n       [-0.24234191, -0.26201954],\n       [-1.91706244,  0.45024814],\n       [-0.24234191, -0.29051024],\n       [-1.81854947, -1.25919428],\n       [-1.03044569, -1.43013852],\n       [-0.6363938 , -0.06258459],\n       [ 0.053197  , -0.5469266 ],\n       [-0.04531597, -0.43296378],\n       [-0.04531597,  1.90327419],\n       [-1.32598461, -1.08825004],\n       [-0.93193272,  1.5044043 ],\n       [-0.14382894,  0.13685036],\n       [-0.24234191,  0.07986895],\n       [ 2.12196942,  1.70383925],\n       [ 2.02345645, -0.9173058 ],\n       [-0.34085488,  0.05137824],\n       [ 0.84130078,  0.25081319],\n       [ 0.84130078,  0.50722955],\n       [-1.22747163,  0.56421097],\n       [ 0.44724889, -0.46145448],\n       [ 0.25022295, -0.37598236],\n       [ 0.34873592, -0.5184359 ],\n       [-0.24234191, -0.37598236],\n       [ 0.93981375, -1.14523145],\n       [ 1.33386564, -1.3446664 ],\n       [ 0.25022295,  2.04572773],\n       [ 0.25022295, -0.31900095],\n       [ 0.44724889,  1.07704369],\n       [ 0.93981375,  2.10270914],\n       [ 0.74278781, -1.25919428],\n       [-1.42449758, -0.20503812],\n       [ 0.34873592,  0.2793039 ],\n       [-0.24234191, -1.23070357],\n       [ 1.53089159, -1.03126862],\n       [ 0.34873592, -0.71787085],\n       [ 0.84130078, -0.31900095],\n       [-0.73490677,  1.30496935],\n       [-1.72003649, -0.60390802],\n       [-0.43936786, -0.77485226],\n       [ 1.92494348,  0.10835966],\n       [ 1.03832673,  1.73232995],\n       [-0.73490677,  0.25081319],\n       [-0.04531597,  0.05137824],\n       [-0.83341974, -0.66088943],\n       [-0.24234191, -1.43013852],\n       [-0.43936786, -0.5469266 ],\n       [ 0.54576187,  1.67534854],\n       [ 2.22048239,  0.36477602],\n       [ 1.43237862, -0.9173058 ],\n       [-0.34085488,  1.27647864],\n       [ 2.22048239, -1.03126862],\n       [-1.12895866,  0.2793039 ],\n       [-0.24234191,  0.05137824],\n       [ 0.15170998, -0.80334297],\n       [ 2.02345645,  2.10270914],\n       [ 1.72791753,  1.56138571],\n       [ 1.53089159,  0.96308086],\n       [-1.22747163,  0.47873885],\n       [ 0.25022295,  0.05137824],\n       [ 0.44724889, -0.17654741],\n       [ 0.34873592, -0.5469266 ],\n       [-1.03044569, -0.34749166],\n       [ 0.34873592,  0.05137824],\n       [-0.53788083, -1.48711993],\n       [ 0.25022295,  1.04855299],\n       [ 1.03832673, -1.00277792]])"
     },
     "execution_count": 10,
     "metadata": {},
     "output_type": "execute_result"
    }
   ],
   "source": [
    "x_train"
   ],
   "metadata": {
    "collapsed": false,
    "ExecuteTime": {
     "end_time": "2024-07-17T13:55:37.645121Z",
     "start_time": "2024-07-17T13:55:37.637834Z"
    }
   },
   "id": "2ad88a47723a11d4",
   "execution_count": 10
  },
  {
   "cell_type": "markdown",
   "source": [
    "Visualising the Training set result"
   ],
   "metadata": {
    "collapsed": false
   },
   "id": "b000aca97084a59d"
  },
  {
   "cell_type": "code",
   "outputs": [
    {
     "data": {
      "text/plain": "<Figure size 640x480 with 1 Axes>",
      "image/png": "[encoded data removed]"
     },
     "metadata": {},
     "output_type": "display_data"
    }
   ],
   "source": [
    "from matplotlib.colors import ListedColormap\n",
    "X_set, y_set = sc.inverse_transform(x_train), y_train\n",
    "X1, X2 = np.meshgrid(np.arange(start = X_set[:, 0].min() - 10, stop = X_set[:, 0].max() + 10, step = 1),\n",
    "                     np.arange(start = X_set[:, 1].min() - 1000, stop = X_set[:, 1].max() + 1000, step = 1))\n",
    "plt.contourf(X1, X2, classifier.predict(sc.transform(np.array([X1.ravel(), X2.ravel()]).T)).reshape(X1.shape),\n",
    "             alpha = 0.75, cmap = ListedColormap(('red', 'green')))\n",
    "plt.xlim(X1.min(), X1.max())\n",
    "plt.ylim(X2.min(), X2.max())\n",
    "for i, j in enumerate(np.unique(y_set)):\n",
    "    plt.scatter(X_set[y_set == j, 0], X_set[y_set == j, 1], color = ListedColormap(('red', 'green'))(i), label = j)\n",
    "plt.title('K-NN (Training set)')\n",
    "plt.xlabel('Age')\n",
    "plt.ylabel('Estimated Salary')\n",
    "plt.legend()\n",
    "plt.show()"
   ],
   "metadata": {
    "collapsed": false,
    "ExecuteTime": {
     "end_time": "2024-07-17T13:59:55.337023Z",
     "start_time": "2024-07-17T13:55:37.645121Z"
    }
   },
   "id": "2c773272dad02051",
   "execution_count": 11
  },
  {
   "cell_type": "markdown",
   "source": [
    "Visualising the Test set result"
   ],
   "metadata": {
    "collapsed": false
   },
   "id": "669cf1cc2a40c0b6"
  },
  {
   "cell_type": "code",
   "outputs": [],
   "source": [
    "# from matplotlib.colors import ListedColormap\n",
    "# X_set, y_set = sc.inverse_transform(x_test), y_test\n",
    "# X1, X2 = np.meshgrid(np.arange(start = X_set[:, 0].min() - 10, stop = X_set[:, 0].max() + 10, step = 1),\n",
    "#                      np.arange(start = X_set[:, 1].min() - 1000, stop = X_set[:, 1].max() + 1000, step = 1))\n",
    "# plt.contourf(X1, X2, classifier.predict(sc.transform(np.array([X1.ravel(), X2.ravel()]).T)).reshape(X1.shape),\n",
    "#              alpha = 0.75, cmap = ListedColormap(('red', 'green')))\n",
    "# plt.xlim(X1.min(), X1.max())\n",
    "# plt.ylim(X2.min(), X2.max())\n",
    "# for i, j in enumerate(np.unique(y_set)):\n",
    "#     plt.scatter(X_set[y_set == j, 0], X_set[y_set == j, 1], color = ListedColormap(('red', 'green'))(i), label = j)\n",
    "# plt.title('K-NN (Test set)')\n",
    "# plt.xlabel('Age')\n",
    "# plt.ylabel('Estimated Salary')\n",
    "# plt.legend()\n",
    "# plt.show()"
   ],
   "metadata": {
    "collapsed": false,
    "ExecuteTime": {
     "end_time": "2024-07-17T14:00:46.465542Z",
     "start_time": "2024-07-17T14:00:46.463029Z"
    }
   },
   "id": "18dfd27308f2daa",
   "execution_count": 13
  }
 ],
 "metadata": {
  "kernelspec": {
   "display_name": "Python 3",
   "language": "python",
   "name": "python3"
  },
  "language_info": {
   "codemirror_mode": {
    "name": "ipython",
    "version": 2
   },
   "file_extension": ".py",
   "mimetype": "text/x-python",
   "name": "python",
   "nbconvert_exporter": "python",
   "pygments_lexer": "ipython2",
   "version": "2.7.6"
  }
 },
 "nbformat": 4,
 "nbformat_minor": 5
}
