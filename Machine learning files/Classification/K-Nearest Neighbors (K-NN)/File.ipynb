{
 "cells": [
  {
   "cell_type": "markdown",
   "source": [
    "Importing Libraries"
   ],
   "metadata": {
    "collapsed": false
   },
   "id": "b3cf7b27917cf0e9"
  },
  {
   "cell_type": "code",
   "outputs": [],
   "source": [
    "from sklearn.model_selection import train_test_split\n",
    "import numpy as np\n",
    "import pandas as pd\n",
    "import matplotlib.pyplot as plt"
   ],
   "metadata": {
    "collapsed": false,
    "ExecuteTime": {
     "end_time": "2024-05-02T11:46:28.803642Z",
     "start_time": "2024-05-02T11:46:27.205818Z"
    }
   },
   "id": "11041fd7c914a270",
   "execution_count": 2
  },
  {
   "cell_type": "markdown",
   "source": [
    "Importing the dataset"
   ],
   "metadata": {
    "collapsed": false
   },
   "id": "cadb06615ed1c56"
  },
  {
   "cell_type": "code",
   "outputs": [],
   "source": [
    "with open('Social_Network_Ads.csv') as r:\n",
    "    my_csv=pd.read_csv(r)\n",
    "x=my_csv.iloc[:,:-1].values\n",
    "y=my_csv.iloc[:,-1].values"
   ],
   "metadata": {
    "collapsed": false,
    "ExecuteTime": {
     "end_time": "2024-05-02T11:46:28.810193Z",
     "start_time": "2024-05-02T11:46:28.803642Z"
    }
   },
   "id": "79d5c807985330e5",
   "execution_count": 3
  },
  {
   "cell_type": "markdown",
   "source": [
    "Splitting data into training and test set"
   ],
   "metadata": {
    "collapsed": false
   },
   "id": "593d972ef35a5a0b"
  },
  {
   "cell_type": "code",
   "outputs": [],
   "source": [
    "x_train,x_test,y_train,y_test=train_test_split(x,y,test_size=0.25)"
   ],
   "metadata": {
    "collapsed": false,
    "ExecuteTime": {
     "end_time": "2024-05-02T11:46:28.815051Z",
     "start_time": "2024-05-02T11:46:28.811191Z"
    }
   },
   "id": "d60e58c0148a541a",
   "execution_count": 4
  },
  {
   "cell_type": "markdown",
   "source": [
    "Feature scaling"
   ],
   "metadata": {
    "collapsed": false
   },
   "id": "d859cd1821e3541a"
  },
  {
   "cell_type": "code",
   "outputs": [],
   "source": [
    "from sklearn.preprocessing import StandardScaler\n",
    "sc=StandardScaler()\n",
    "x_train=sc.fit_transform(x_train)"
   ],
   "metadata": {
    "collapsed": false,
    "ExecuteTime": {
     "end_time": "2024-05-02T11:46:28.824599Z",
     "start_time": "2024-05-02T11:46:28.816049Z"
    }
   },
   "id": "4662ab1b1766f9b3",
   "execution_count": 5
  },
  {
   "cell_type": "markdown",
   "source": [
    "Building the model (K-NN)"
   ],
   "metadata": {
    "collapsed": false
   },
   "id": "8e8fdb8f5acef40c"
  },
  {
   "cell_type": "code",
   "outputs": [
    {
     "data": {
      "text/plain": "KNeighborsClassifier()",
      "text/html": "<style>#sk-container-id-1 {\n  /* Definition of color scheme common for light and dark mode */\n  --sklearn-color-text: black;\n  --sklearn-color-line: gray;\n  /* Definition of color scheme for unfitted estimators */\n  --sklearn-color-unfitted-level-0: #fff5e6;\n  --sklearn-color-unfitted-level-1: #f6e4d2;\n  --sklearn-color-unfitted-level-2: #ffe0b3;\n  --sklearn-color-unfitted-level-3: chocolate;\n  /* Definition of color scheme for fitted estimators */\n  --sklearn-color-fitted-level-0: #f0f8ff;\n  --sklearn-color-fitted-level-1: #d4ebff;\n  --sklearn-color-fitted-level-2: #b3dbfd;\n  --sklearn-color-fitted-level-3: cornflowerblue;\n\n  /* Specific color for light theme */\n  --sklearn-color-text-on-default-background: var(--sg-text-color, var(--theme-code-foreground, var(--jp-content-font-color1, black)));\n  --sklearn-color-background: var(--sg-background-color, var(--theme-background, var(--jp-layout-color0, white)));\n  --sklearn-color-border-box: var(--sg-text-color, var(--theme-code-foreground, var(--jp-content-font-color1, black)));\n  --sklearn-color-icon: #696969;\n\n  @media (prefers-color-scheme: dark) {\n    /* Redefinition of color scheme for dark theme */\n    --sklearn-color-text-on-default-background: var(--sg-text-color, var(--theme-code-foreground, var(--jp-content-font-color1, white)));\n    --sklearn-color-background: var(--sg-background-color, var(--theme-background, var(--jp-layout-color0, #111)));\n    --sklearn-color-border-box: var(--sg-text-color, var(--theme-code-foreground, var(--jp-content-font-color1, white)));\n    --sklearn-color-icon: #878787;\n  }\n}\n\n#sk-container-id-1 {\n  color: var(--sklearn-color-text);\n}\n\n#sk-container-id-1 pre {\n  padding: 0;\n}\n\n#sk-container-id-1 input.sk-hidden--visually {\n  border: 0;\n  clip: rect(1px 1px 1px 1px);\n  clip: rect(1px, 1px, 1px, 1px);\n  height: 1px;\n  margin: -1px;\n  overflow: hidden;\n  padding: 0;\n  position: absolute;\n  width: 1px;\n}\n\n#sk-container-id-1 div.sk-dashed-wrapped {\n  border: 1px dashed var(--sklearn-color-line);\n  margin: 0 0.4em 0.5em 0.4em;\n  box-sizing: border-box;\n  padding-bottom: 0.4em;\n  background-color: var(--sklearn-color-background);\n}\n\n#sk-container-id-1 div.sk-container {\n  /* jupyter's `normalize.less` sets `[hidden] { display: none; }`\n     but bootstrap.min.css set `[hidden] { display: none !important; }`\n     so we also need the `!important` here to be able to override the\n     default hidden behavior on the sphinx rendered scikit-learn.org.\n     See: https://github.com/scikit-learn/scikit-learn/issues/21755 */\n  display: inline-block !important;\n  position: relative;\n}\n\n#sk-container-id-1 div.sk-text-repr-fallback {\n  display: none;\n}\n\ndiv.sk-parallel-item,\ndiv.sk-serial,\ndiv.sk-item {\n  /* draw centered vertical line to link estimators */\n  background-image: linear-gradient(var(--sklearn-color-text-on-default-background), var(--sklearn-color-text-on-default-background));\n  background-size: 2px 100%;\n  background-repeat: no-repeat;\n  background-position: center center;\n}\n\n/* Parallel-specific style estimator block */\n\n#sk-container-id-1 div.sk-parallel-item::after {\n  content: \"\";\n  width: 100%;\n  border-bottom: 2px solid var(--sklearn-color-text-on-default-background);\n  flex-grow: 1;\n}\n\n#sk-container-id-1 div.sk-parallel {\n  display: flex;\n  align-items: stretch;\n  justify-content: center;\n  background-color: var(--sklearn-color-background);\n  position: relative;\n}\n\n#sk-container-id-1 div.sk-parallel-item {\n  display: flex;\n  flex-direction: column;\n}\n\n#sk-container-id-1 div.sk-parallel-item:first-child::after {\n  align-self: flex-end;\n  width: 50%;\n}\n\n#sk-container-id-1 div.sk-parallel-item:last-child::after {\n  align-self: flex-start;\n  width: 50%;\n}\n\n#sk-container-id-1 div.sk-parallel-item:only-child::after {\n  width: 0;\n}\n\n/* Serial-specific style estimator block */\n\n#sk-container-id-1 div.sk-serial {\n  display: flex;\n  flex-direction: column;\n  align-items: center;\n  background-color: var(--sklearn-color-background);\n  padding-right: 1em;\n  padding-left: 1em;\n}\n\n\n/* Toggleable style: style used for estimator/Pipeline/ColumnTransformer box that is\nclickable and can be expanded/collapsed.\n- Pipeline and ColumnTransformer use this feature and define the default style\n- Estimators will overwrite some part of the style using the `sk-estimator` class\n*/\n\n/* Pipeline and ColumnTransformer style (default) */\n\n#sk-container-id-1 div.sk-toggleable {\n  /* Default theme specific background. It is overwritten whether we have a\n  specific estimator or a Pipeline/ColumnTransformer */\n  background-color: var(--sklearn-color-background);\n}\n\n/* Toggleable label */\n#sk-container-id-1 label.sk-toggleable__label {\n  cursor: pointer;\n  display: block;\n  width: 100%;\n  margin-bottom: 0;\n  padding: 0.5em;\n  box-sizing: border-box;\n  text-align: center;\n}\n\n#sk-container-id-1 label.sk-toggleable__label-arrow:before {\n  /* Arrow on the left of the label */\n  content: \"▸\";\n  float: left;\n  margin-right: 0.25em;\n  color: var(--sklearn-color-icon);\n}\n\n#sk-container-id-1 label.sk-toggleable__label-arrow:hover:before {\n  color: var(--sklearn-color-text);\n}\n\n/* Toggleable content - dropdown */\n\n#sk-container-id-1 div.sk-toggleable__content {\n  max-height: 0;\n  max-width: 0;\n  overflow: hidden;\n  text-align: left;\n  /* unfitted */\n  background-color: var(--sklearn-color-unfitted-level-0);\n}\n\n#sk-container-id-1 div.sk-toggleable__content.fitted {\n  /* fitted */\n  background-color: var(--sklearn-color-fitted-level-0);\n}\n\n#sk-container-id-1 div.sk-toggleable__content pre {\n  margin: 0.2em;\n  border-radius: 0.25em;\n  color: var(--sklearn-color-text);\n  /* unfitted */\n  background-color: var(--sklearn-color-unfitted-level-0);\n}\n\n#sk-container-id-1 div.sk-toggleable__content.fitted pre {\n  /* unfitted */\n  background-color: var(--sklearn-color-fitted-level-0);\n}\n\n#sk-container-id-1 input.sk-toggleable__control:checked~div.sk-toggleable__content {\n  /* Expand drop-down */\n  max-height: 200px;\n  max-width: 100%;\n  overflow: auto;\n}\n\n#sk-container-id-1 input.sk-toggleable__control:checked~label.sk-toggleable__label-arrow:before {\n  content: \"▾\";\n}\n\n/* Pipeline/ColumnTransformer-specific style */\n\n#sk-container-id-1 div.sk-label input.sk-toggleable__control:checked~label.sk-toggleable__label {\n  color: var(--sklearn-color-text);\n  background-color: var(--sklearn-color-unfitted-level-2);\n}\n\n#sk-container-id-1 div.sk-label.fitted input.sk-toggleable__control:checked~label.sk-toggleable__label {\n  background-color: var(--sklearn-color-fitted-level-2);\n}\n\n/* Estimator-specific style */\n\n/* Colorize estimator box */\n#sk-container-id-1 div.sk-estimator input.sk-toggleable__control:checked~label.sk-toggleable__label {\n  /* unfitted */\n  background-color: var(--sklearn-color-unfitted-level-2);\n}\n\n#sk-container-id-1 div.sk-estimator.fitted input.sk-toggleable__control:checked~label.sk-toggleable__label {\n  /* fitted */\n  background-color: var(--sklearn-color-fitted-level-2);\n}\n\n#sk-container-id-1 div.sk-label label.sk-toggleable__label,\n#sk-container-id-1 div.sk-label label {\n  /* The background is the default theme color */\n  color: var(--sklearn-color-text-on-default-background);\n}\n\n/* On hover, darken the color of the background */\n#sk-container-id-1 div.sk-label:hover label.sk-toggleable__label {\n  color: var(--sklearn-color-text);\n  background-color: var(--sklearn-color-unfitted-level-2);\n}\n\n/* Label box, darken color on hover, fitted */\n#sk-container-id-1 div.sk-label.fitted:hover label.sk-toggleable__label.fitted {\n  color: var(--sklearn-color-text);\n  background-color: var(--sklearn-color-fitted-level-2);\n}\n\n/* Estimator label */\n\n#sk-container-id-1 div.sk-label label {\n  font-family: monospace;\n  font-weight: bold;\n  display: inline-block;\n  line-height: 1.2em;\n}\n\n#sk-container-id-1 div.sk-label-container {\n  text-align: center;\n}\n\n/* Estimator-specific */\n#sk-container-id-1 div.sk-estimator {\n  font-family: monospace;\n  border: 1px dotted var(--sklearn-color-border-box);\n  border-radius: 0.25em;\n  box-sizing: border-box;\n  margin-bottom: 0.5em;\n  /* unfitted */\n  background-color: var(--sklearn-color-unfitted-level-0);\n}\n\n#sk-container-id-1 div.sk-estimator.fitted {\n  /* fitted */\n  background-color: var(--sklearn-color-fitted-level-0);\n}\n\n/* on hover */\n#sk-container-id-1 div.sk-estimator:hover {\n  /* unfitted */\n  background-color: var(--sklearn-color-unfitted-level-2);\n}\n\n#sk-container-id-1 div.sk-estimator.fitted:hover {\n  /* fitted */\n  background-color: var(--sklearn-color-fitted-level-2);\n}\n\n/* Specification for estimator info (e.g. \"i\" and \"?\") */\n\n/* Common style for \"i\" and \"?\" */\n\n.sk-estimator-doc-link,\na:link.sk-estimator-doc-link,\na:visited.sk-estimator-doc-link {\n  float: right;\n  font-size: smaller;\n  line-height: 1em;\n  font-family: monospace;\n  background-color: var(--sklearn-color-background);\n  border-radius: 1em;\n  height: 1em;\n  width: 1em;\n  text-decoration: none !important;\n  margin-left: 1ex;\n  /* unfitted */\n  border: var(--sklearn-color-unfitted-level-1) 1pt solid;\n  color: var(--sklearn-color-unfitted-level-1);\n}\n\n.sk-estimator-doc-link.fitted,\na:link.sk-estimator-doc-link.fitted,\na:visited.sk-estimator-doc-link.fitted {\n  /* fitted */\n  border: var(--sklearn-color-fitted-level-1) 1pt solid;\n  color: var(--sklearn-color-fitted-level-1);\n}\n\n/* On hover */\ndiv.sk-estimator:hover .sk-estimator-doc-link:hover,\n.sk-estimator-doc-link:hover,\ndiv.sk-label-container:hover .sk-estimator-doc-link:hover,\n.sk-estimator-doc-link:hover {\n  /* unfitted */\n  background-color: var(--sklearn-color-unfitted-level-3);\n  color: var(--sklearn-color-background);\n  text-decoration: none;\n}\n\ndiv.sk-estimator.fitted:hover .sk-estimator-doc-link.fitted:hover,\n.sk-estimator-doc-link.fitted:hover,\ndiv.sk-label-container:hover .sk-estimator-doc-link.fitted:hover,\n.sk-estimator-doc-link.fitted:hover {\n  /* fitted */\n  background-color: var(--sklearn-color-fitted-level-3);\n  color: var(--sklearn-color-background);\n  text-decoration: none;\n}\n\n/* Span, style for the box shown on hovering the info icon */\n.sk-estimator-doc-link span {\n  display: none;\n  z-index: 9999;\n  position: relative;\n  font-weight: normal;\n  right: .2ex;\n  padding: .5ex;\n  margin: .5ex;\n  width: min-content;\n  min-width: 20ex;\n  max-width: 50ex;\n  color: var(--sklearn-color-text);\n  box-shadow: 2pt 2pt 4pt #999;\n  /* unfitted */\n  background: var(--sklearn-color-unfitted-level-0);\n  border: .5pt solid var(--sklearn-color-unfitted-level-3);\n}\n\n.sk-estimator-doc-link.fitted span {\n  /* fitted */\n  background: var(--sklearn-color-fitted-level-0);\n  border: var(--sklearn-color-fitted-level-3);\n}\n\n.sk-estimator-doc-link:hover span {\n  display: block;\n}\n\n/* \"?\"-specific style due to the `<a>` HTML tag */\n\n#sk-container-id-1 a.estimator_doc_link {\n  float: right;\n  font-size: 1rem;\n  line-height: 1em;\n  font-family: monospace;\n  background-color: var(--sklearn-color-background);\n  border-radius: 1rem;\n  height: 1rem;\n  width: 1rem;\n  text-decoration: none;\n  /* unfitted */\n  color: var(--sklearn-color-unfitted-level-1);\n  border: var(--sklearn-color-unfitted-level-1) 1pt solid;\n}\n\n#sk-container-id-1 a.estimator_doc_link.fitted {\n  /* fitted */\n  border: var(--sklearn-color-fitted-level-1) 1pt solid;\n  color: var(--sklearn-color-fitted-level-1);\n}\n\n/* On hover */\n#sk-container-id-1 a.estimator_doc_link:hover {\n  /* unfitted */\n  background-color: var(--sklearn-color-unfitted-level-3);\n  color: var(--sklearn-color-background);\n  text-decoration: none;\n}\n\n#sk-container-id-1 a.estimator_doc_link.fitted:hover {\n  /* fitted */\n  background-color: var(--sklearn-color-fitted-level-3);\n}\n</style><div id=\"sk-container-id-1\" class=\"sk-top-container\"><div class=\"sk-text-repr-fallback\"><pre>KNeighborsClassifier()</pre><b>In a Jupyter environment, please rerun this cell to show the HTML representation or trust the notebook. <br />On GitHub, the HTML representation is unable to render, please try loading this page with nbviewer.org.</b></div><div class=\"sk-container\" hidden><div class=\"sk-item\"><div class=\"sk-estimator fitted sk-toggleable\"><input class=\"sk-toggleable__control sk-hidden--visually\" id=\"sk-estimator-id-1\" type=\"checkbox\" checked><label for=\"sk-estimator-id-1\" class=\"sk-toggleable__label fitted sk-toggleable__label-arrow fitted\">&nbsp;&nbsp;KNeighborsClassifier<a class=\"sk-estimator-doc-link fitted\" rel=\"noreferrer\" target=\"_blank\" href=\"https://scikit-learn.org/1.4/modules/generated/sklearn.neighbors.KNeighborsClassifier.html\">?<span>Documentation for KNeighborsClassifier</span></a><span class=\"sk-estimator-doc-link fitted\">i<span>Fitted</span></span></label><div class=\"sk-toggleable__content fitted\"><pre>KNeighborsClassifier()</pre></div> </div></div></div></div>"
     },
     "execution_count": 6,
     "metadata": {},
     "output_type": "execute_result"
    }
   ],
   "source": [
    "from sklearn.neighbors import KNeighborsClassifier\n",
    "classifier=KNeighborsClassifier()\n",
    "classifier.fit(x_train,y_train)"
   ],
   "metadata": {
    "collapsed": false,
    "ExecuteTime": {
     "end_time": "2024-05-02T11:46:28.936769Z",
     "start_time": "2024-05-02T11:46:28.824599Z"
    }
   },
   "id": "8cb92e1cdb25e941",
   "execution_count": 6
  },
  {
   "cell_type": "markdown",
   "source": [
    "Comparing prediction and real result"
   ],
   "metadata": {
    "collapsed": false
   },
   "id": "bd63dd1a608ceea1"
  },
  {
   "cell_type": "code",
   "outputs": [
    {
     "name": "stdout",
     "output_type": "stream",
     "text": [
      "[[0 0]\n",
      " [0 0]\n",
      " [0 0]\n",
      " [1 1]\n",
      " [0 0]\n",
      " [1 1]\n",
      " [0 1]\n",
      " [1 1]\n",
      " [0 0]\n",
      " [1 1]\n",
      " [1 1]\n",
      " [1 1]\n",
      " [1 0]\n",
      " [0 0]\n",
      " [0 0]\n",
      " [0 0]\n",
      " [0 0]\n",
      " [1 1]\n",
      " [0 0]\n",
      " [1 1]\n",
      " [0 0]\n",
      " [1 1]\n",
      " [1 1]\n",
      " [1 1]\n",
      " [0 0]\n",
      " [0 0]\n",
      " [1 1]\n",
      " [0 0]\n",
      " [0 0]\n",
      " [1 1]\n",
      " [0 0]\n",
      " [0 0]\n",
      " [0 0]\n",
      " [1 1]\n",
      " [0 0]\n",
      " [0 0]\n",
      " [0 0]\n",
      " [0 0]\n",
      " [1 1]\n",
      " [0 0]\n",
      " [1 1]\n",
      " [0 0]\n",
      " [0 0]\n",
      " [0 0]\n",
      " [1 1]\n",
      " [1 0]\n",
      " [1 0]\n",
      " [0 0]\n",
      " [0 0]\n",
      " [0 1]\n",
      " [0 0]\n",
      " [0 0]\n",
      " [1 1]\n",
      " [0 0]\n",
      " [0 0]\n",
      " [0 0]\n",
      " [0 0]\n",
      " [0 0]\n",
      " [0 0]\n",
      " [1 0]\n",
      " [0 0]\n",
      " [1 1]\n",
      " [1 1]\n",
      " [0 0]\n",
      " [1 1]\n",
      " [0 1]\n",
      " [1 1]\n",
      " [1 1]\n",
      " [0 0]\n",
      " [0 0]\n",
      " [0 0]\n",
      " [0 0]\n",
      " [0 0]\n",
      " [1 1]\n",
      " [1 1]\n",
      " [1 0]\n",
      " [1 1]\n",
      " [1 1]\n",
      " [0 0]\n",
      " [1 1]\n",
      " [0 0]\n",
      " [0 0]\n",
      " [0 0]\n",
      " [1 1]\n",
      " [0 0]\n",
      " [0 0]\n",
      " [0 0]\n",
      " [0 1]\n",
      " [1 0]\n",
      " [0 0]\n",
      " [0 0]\n",
      " [0 0]\n",
      " [0 0]\n",
      " [0 0]\n",
      " [1 1]\n",
      " [0 0]\n",
      " [0 0]\n",
      " [1 1]\n",
      " [0 0]\n",
      " [1 1]]\n"
     ]
    }
   ],
   "source": [
    "y_pred=classifier.predict(sc.transform(x_test))\n",
    "print(np.concatenate((y_pred.reshape(-1,1),y_test.reshape(-1,1)),1))"
   ],
   "metadata": {
    "collapsed": false,
    "ExecuteTime": {
     "end_time": "2024-05-02T11:46:28.946555Z",
     "start_time": "2024-05-02T11:46:28.936769Z"
    }
   },
   "id": "ecbeda3e6b48af24",
   "execution_count": 7
  },
  {
   "cell_type": "markdown",
   "source": [
    "Confusion matrix"
   ],
   "metadata": {
    "collapsed": false
   },
   "id": "772b9543ee7b95d1"
  },
  {
   "cell_type": "code",
   "outputs": [
    {
     "name": "stdout",
     "output_type": "stream",
     "text": [
      "[[58  6]\n",
      " [ 4 32]]\n"
     ]
    }
   ],
   "source": [
    "from sklearn.metrics import confusion_matrix\n",
    "cs=confusion_matrix(y_test,y_pred)\n",
    "print(cs)"
   ],
   "metadata": {
    "collapsed": false,
    "ExecuteTime": {
     "end_time": "2024-05-02T11:46:28.951020Z",
     "start_time": "2024-05-02T11:46:28.947555Z"
    }
   },
   "id": "bd8c5ac2de4ad0a7",
   "execution_count": 8
  },
  {
   "cell_type": "markdown",
   "source": [
    "Evaluating score of model"
   ],
   "metadata": {
    "collapsed": false
   },
   "id": "2dd1ab330a62a91"
  },
  {
   "cell_type": "code",
   "outputs": [
    {
     "data": {
      "text/plain": "0.9"
     },
     "execution_count": 9,
     "metadata": {},
     "output_type": "execute_result"
    }
   ],
   "source": [
    "classifier.score(sc.transform(x_test),y_test)"
   ],
   "metadata": {
    "collapsed": false,
    "ExecuteTime": {
     "end_time": "2024-05-02T11:46:28.960373Z",
     "start_time": "2024-05-02T11:46:28.951020Z"
    }
   },
   "id": "bf3f7cd7c4bc06b2",
   "execution_count": 9
  },
  {
   "cell_type": "markdown",
   "source": [
    "Predicting new data"
   ],
   "metadata": {
    "collapsed": false
   },
   "id": "8315ce718a41c27a"
  },
  {
   "cell_type": "code",
   "outputs": [
    {
     "ename": "NameError",
     "evalue": "name 'classifier' is not defined",
     "output_type": "error",
     "traceback": [
      "\u001B[1;31m---------------------------------------------------------------------------\u001B[0m",
      "\u001B[1;31mNameError\u001B[0m                                 Traceback (most recent call last)",
      "Cell \u001B[1;32mIn[1], line 1\u001B[0m\n\u001B[1;32m----> 1\u001B[0m \u001B[43mclassifier\u001B[49m\u001B[38;5;241m.\u001B[39mpredict(sc\u001B[38;5;241m.\u001B[39mtransform([[\u001B[38;5;241m30\u001B[39m,\u001B[38;5;241m44000\u001B[39m]]))\n",
      "\u001B[1;31mNameError\u001B[0m: name 'classifier' is not defined"
     ]
    }
   ],
   "source": [
    "classifier.predict(sc.transform([[30,44000]]))"
   ],
   "metadata": {
    "collapsed": false,
    "ExecuteTime": {
     "end_time": "2024-06-16T14:38:42.230194Z",
     "start_time": "2024-06-16T14:38:42.029478Z"
    }
   },
   "id": "53f932d8fc6f20b3",
   "execution_count": 1
  },
  {
   "cell_type": "code",
   "outputs": [
    {
     "data": {
      "text/plain": "array([[ 1.42857163,  2.12759663],\n       [ 2.00229517,  0.38143853],\n       [-0.29259901, -0.37522997],\n       [ 2.09791577,  1.10900441],\n       [-0.86632255, -1.21920638],\n       [ 0.6636069 , -1.39382219],\n       [-0.48384019, -1.21920638],\n       [ 1.04608927,  0.55605434],\n       [-0.29259901, -1.30651429],\n       [-1.63128728,  0.52695171],\n       [ 0.75922749, -1.36471956],\n       [ 0.37674513,  0.09041219],\n       [ 0.75922749, -0.84087213],\n       [-1.4400461 , -1.21920638],\n       [ 0.85484808,  1.0216965 ],\n       [-0.29259901, -0.8990774 ],\n       [-0.19697842,  1.40003076],\n       [ 0.85484808, -0.66625632],\n       [-0.10135783, -1.07369321],\n       [-0.86632255,  2.2731098 ],\n       [ 0.37674513, -0.17151153],\n       [-1.4400461 , -0.11330626],\n       [-0.86632255, -0.78266686],\n       [-0.29259901, -0.75356423],\n       [-0.19697842,  1.6037492 ],\n       [ 0.08988336,  0.03220692],\n       [ 1.23733045,  1.86567291],\n       [ 0.08988336,  0.14861746],\n       [-1.15318433,  0.29413063],\n       [-0.57946078,  1.37092812],\n       [-0.96194314, -0.95728267],\n       [ 1.04608927, -1.21920638],\n       [-0.00573724, -0.57894842],\n       [-0.29259901, -0.57894842],\n       [ 0.28112454,  0.49784907],\n       [ 0.28112454, -0.3170247 ],\n       [ 0.37674513,  0.265028  ],\n       [-0.67508137,  0.55605434],\n       [ 0.28112454,  0.29413063],\n       [ 0.85484808, -0.60805105],\n       [-0.3882196 , -0.78266686],\n       [-0.29259901, -0.57894842],\n       [ 0.37674513,  0.14861746],\n       [-1.05756374, -1.45202746],\n       [ 0.37674513, -0.14240889],\n       [-0.77070196,  0.55605434],\n       [ 0.08988336,  1.05079914],\n       [-1.34442551, -0.34612734],\n       [-0.10135783,  0.06130955],\n       [-0.10135783,  0.23592536],\n       [ 1.14170986, -1.45202746],\n       [-1.15318433,  0.41054117],\n       [ 0.28112454,  0.265028  ],\n       [-0.86632255,  0.38143853],\n       [ 1.04608927,  2.06939136],\n       [ 2.00229517,  2.12759663],\n       [-0.29259901, -0.92818004],\n       [-0.29259901,  0.20682273],\n       [-0.77070196,  1.34182549],\n       [-1.72690787, -1.36471956],\n       [ 2.00229517, -0.8117695 ],\n       [-1.4400461 ,  0.3523359 ],\n       [-0.96194314,  0.55605434],\n       [ 0.37674513, -0.46253788],\n       [-1.05756374, -1.13189848],\n       [-0.29259901,  0.03220692],\n       [-0.67508137,  1.40003076],\n       [ 0.85484808, -0.78266686],\n       [ 1.33295104, -0.92818004],\n       [-1.34442551, -1.4811301 ],\n       [ 1.23733045, -1.36471956],\n       [-1.05756374, -0.34612734],\n       [ 1.04608927, -1.21920638],\n       [ 0.6636069 ,  0.265028  ],\n       [ 1.81105399,  1.5164413 ],\n       [-0.67508137, -1.04459058],\n       [-1.15318433, -1.53933537],\n       [ 2.00229517, -1.19010375],\n       [ 0.75922749,  0.52695171],\n       [ 0.47236572,  1.72015974],\n       [-0.00573724,  1.22541495],\n       [ 0.08988336,  0.265028  ],\n       [-0.29259901,  0.61425961],\n       [ 0.37674513,  2.30221244],\n       [ 0.37674513,  0.29413063],\n       [ 1.90667458, -0.66625632],\n       [ 0.75922749,  1.37092812],\n       [ 0.08988336,  0.03220692],\n       [-1.05756374,  0.41054117],\n       [-0.10135783,  0.29413063],\n       [-0.67508137, -1.51023273],\n       [-1.15318433, -1.10279584],\n       [-0.48384019, -0.84087213],\n       [ 1.52419222, -1.27741165],\n       [-0.96194314,  0.265028  ],\n       [ 1.81105399, -1.07369321],\n       [-0.48384019, -0.54984578],\n       [ 0.37674513, -0.46253788],\n       [ 0.6636069 , -1.10279584],\n       [-0.19697842,  2.15669926],\n       [-1.82252846, -1.30651429],\n       [ 0.95046867,  2.06939136],\n       [ 1.90667458, -0.92818004],\n       [-0.67508137,  0.03220692],\n       [ 0.37674513,  1.10900441],\n       [-0.48384019, -0.28792207],\n       [-0.67508137, -0.05510099],\n       [ 1.81105399,  0.11951482],\n       [ 1.7154334 ,  1.83657028],\n       [-0.10135783,  1.95298082],\n       [-1.15318433,  0.46874644],\n       [-1.24880492, -1.07369321],\n       [ 0.56798631, -0.8990774 ],\n       [-0.29259901,  0.06130955],\n       [-0.19697842, -1.07369321],\n       [ 1.52419222,  0.00310428],\n       [ 0.28112454,  0.06130955],\n       [-0.00573724, -0.25881943],\n       [-1.15318433, -0.52074315],\n       [-0.86632255, -0.66625632],\n       [ 0.28112454,  0.06130955],\n       [ 1.81105399, -1.27741165],\n       [-0.00573724,  1.25451758],\n       [-0.77070196, -1.59754064],\n       [-0.29259901, -1.45202746],\n       [-1.53566669, -1.51023273],\n       [-0.57946078, -1.51023273],\n       [-0.00573724, -0.57894842],\n       [-1.63128728, -0.05510099],\n       [-0.29259901, -0.34612734],\n       [-0.77070196,  0.29413063],\n       [-0.29259901, -0.3170247 ],\n       [ 0.85484808,  2.15669926],\n       [-0.19697842, -0.57894842],\n       [-0.86632255,  0.14861746],\n       [ 2.09791577,  0.38143853],\n       [-0.67508137,  0.11951482],\n       [-0.57946078,  2.33131507],\n       [ 0.28112454, -0.28792207],\n       [-0.57946078,  0.46874644],\n       [-1.15318433,  0.06130955],\n       [ 0.6636069 , -1.39382219],\n       [ 1.52419222,  0.99259387],\n       [ 0.95046867,  0.58515698],\n       [ 0.85484808,  1.25451758],\n       [ 1.61981281,  1.74926237],\n       [ 0.18550395,  0.14861746],\n       [ 1.04608927, -0.8990774 ],\n       [ 0.75922749,  0.3523359 ],\n       [-0.29259901,  0.14861746],\n       [ 0.75922749,  0.265028  ],\n       [ 0.18550395,  0.23592536],\n       [-0.29259901, -0.43343524],\n       [ 0.75922749,  0.11951482],\n       [ 1.04608927,  0.46874644],\n       [-1.4400461 , -0.63715369],\n       [-1.34442551,  0.41054117],\n       [ 1.23733045,  2.21490453],\n       [-0.96194314,  0.4396438 ],\n       [ 0.18550395, -0.25881943],\n       [ 0.28112454,  0.06130955],\n       [-0.00573724,  0.03220692],\n       [-1.4400461 , -1.45202746],\n       [ 0.6636069 ,  1.77836501],\n       [ 0.95046867,  0.11951482],\n       [-0.77070196, -0.60805105],\n       [-0.57946078, -1.51023273],\n       [-0.10135783,  2.21490453],\n       [-1.72690787,  0.46874644],\n       [-0.00573724,  0.03220692],\n       [-0.00573724, -0.43343524],\n       [ 1.04608927, -0.98638531],\n       [-1.15318433,  0.29413063],\n       [-0.29259901, -0.49164051],\n       [-0.3882196 , -1.30651429],\n       [-0.3882196 ,  1.22541495],\n       [-0.10135783,  0.265028  ],\n       [-0.29259901, -1.24830902],\n       [ 0.85484808, -1.45202746],\n       [ 2.09791577,  0.9343886 ],\n       [-0.57946078,  1.45823603],\n       [ 0.37674513,  0.99259387],\n       [-0.29259901,  0.09041219],\n       [ 0.95046867,  1.42913339],\n       [-0.57946078,  1.37092812],\n       [ 0.18550395,  0.03220692],\n       [-1.53566669, -0.20061416],\n       [-0.77070196, -0.2297168 ],\n       [ 0.28112454, -0.54984578],\n       [ 1.61981281, -0.8990774 ],\n       [-1.15318433,  1.40003076],\n       [-0.29259901, -0.66625632],\n       [-0.10135783, -0.49164051],\n       [ 0.18550395, -0.14240889],\n       [ 1.90667458,  2.15669926],\n       [-1.05756374,  0.52695171],\n       [ 0.18550395, -0.66625632],\n       [ 0.95046867, -1.07369321],\n       [ 1.04608927,  0.11951482],\n       [-0.29259901, -1.36471956],\n       [-0.10135783,  2.15669926],\n       [ 1.14170986,  0.52695171],\n       [ 0.95046867, -1.16100111],\n       [ 1.81105399, -0.28792207],\n       [-1.4400461 , -0.20061416],\n       [ 1.7154334 ,  0.99259387],\n       [-0.10135783, -0.37522997],\n       [-1.05756374, -0.34612734],\n       [-0.96194314, -0.75356423],\n       [ 1.04608927,  0.52695171],\n       [-1.34442551,  0.55605434],\n       [ 0.08988336,  0.75977279],\n       [ 1.42857163,  0.3523359 ],\n       [-1.63128728, -1.568438  ],\n       [ 1.61981281,  1.6037492 ],\n       [ 0.95046867, -1.19010375],\n       [-0.19697842, -0.46253788],\n       [ 0.95046867, -0.84087213],\n       [ 0.08988336,  1.86567291],\n       [ 0.85484808, -1.04459058],\n       [ 0.08988336,  1.5164413 ],\n       [-1.91814905, -0.05510099],\n       [ 0.95046867,  1.86567291],\n       [-0.29259901, -0.25881943],\n       [-0.77070196,  1.89477555],\n       [ 0.28112454, -1.16100111],\n       [ 1.33295104,  2.33131507],\n       [-1.72690787,  0.3523359 ],\n       [-0.96194314, -0.3170247 ],\n       [ 0.28112454, -0.20061416],\n       [ 0.75922749, -1.21920638],\n       [-1.34442551, -1.10279584],\n       [-1.24880492,  0.265028  ],\n       [-0.19697842,  1.63285184],\n       [-0.10135783, -0.2297168 ],\n       [-1.34442551, -0.43343524],\n       [-0.48384019, -0.78266686],\n       [-0.67508137, -1.59754064],\n       [ 0.18550395,  0.06130955],\n       [ 1.42857163,  0.99259387],\n       [ 0.28112454,  0.06130955],\n       [ 2.09791577, -0.69535896],\n       [-1.15318433, -1.16100111],\n       [-0.57946078,  1.89477555],\n       [-1.72690787,  0.11951482],\n       [-0.57946078,  0.87618333],\n       [-0.77070196, -1.53933537],\n       [ 0.08988336, -0.25881943],\n       [-1.91814905, -0.75356423],\n       [-1.05756374,  0.58515698],\n       [-0.29259901,  0.06130955],\n       [ 1.42857163,  0.06130955],\n       [ 0.08988336,  0.20682273],\n       [-0.86632255,  0.38143853],\n       [ 0.75922749, -1.39382219],\n       [ 0.37674513,  0.00310428],\n       [-0.96194314,  0.49784907],\n       [-1.82252846, -1.42292483],\n       [ 0.08988336, -0.3170247 ],\n       [-1.15318433,  0.32323326],\n       [-0.96194314, -1.10279584],\n       [ 0.75922749,  0.75977279],\n       [-1.24880492,  0.29413063],\n       [-1.34442551, -1.36471956],\n       [-1.05756374, -0.37522997],\n       [ 2.00229517,  1.74926237],\n       [-0.00573724, -0.14240889],\n       [-1.72690787, -0.60805105],\n       [ 0.28112454, -0.72446159],\n       [-1.53566669,  0.32323326],\n       [-0.86632255, -0.78266686],\n       [-0.29259901,  2.24400717],\n       [ 0.37674513,  0.58515698],\n       [-0.10135783, -0.52074315],\n       [-0.48384019, -1.13189848],\n       [ 1.14170986, -0.98638531],\n       [ 0.18550395,  0.14861746],\n       [-0.86632255, -0.25881943],\n       [ 0.28112454, -0.52074315],\n       [-1.91814905, -0.52074315],\n       [ 2.00229517,  0.17772009],\n       [ 0.08988336, -0.8117695 ],\n       [ 0.18550395, -0.37522997],\n       [ 0.75922749, -0.3170247 ],\n       [ 2.09791577, -1.04459058],\n       [ 1.04608927, -0.14240889],\n       [-1.15318433, -1.59754064],\n       [-0.10135783,  0.00310428],\n       [-1.91814905,  0.46874644],\n       [-0.19697842, -0.28792207],\n       [ 1.52419222,  1.10900441],\n       [-0.67508137, -0.34612734],\n       [ 1.33295104,  1.28362022],\n       [-0.29259901,  0.14861746],\n       [-1.34442551, -0.43343524],\n       [ 1.90667458,  0.90528596],\n       [ 1.33295104,  1.98208345],\n       [ 0.37674513, -0.14240889],\n       [ 0.37674513, -0.49164051],\n       [-0.48384019, -0.02599835]])"
     },
     "execution_count": 15,
     "metadata": {},
     "output_type": "execute_result"
    }
   ],
   "source": [
    "x_train"
   ],
   "metadata": {
    "collapsed": false,
    "ExecuteTime": {
     "end_time": "2024-05-02T12:28:21.607206Z",
     "start_time": "2024-05-02T12:28:21.600668Z"
    }
   },
   "id": "2ad88a47723a11d4",
   "execution_count": 15
  },
  {
   "cell_type": "markdown",
   "source": [
    "Visualising the Training set result"
   ],
   "metadata": {
    "collapsed": false
   },
   "id": "b000aca97084a59d"
  },
  {
   "cell_type": "code",
   "outputs": [
    {
     "name": "stderr",
     "output_type": "stream",
     "text": [
      "C:\\Users\\amirmahdi\\AppData\\Local\\Temp\\ipykernel_2464\\4210541772.py:10: UserWarning: *c* argument looks like a single numeric RGB or RGBA sequence, which should be avoided as value-mapping will have precedence in case its length matches with *x* & *y*.  Please use the *color* keyword-argument or provide a 2D array with a single row if you intend to specify the same RGB or RGBA value for all points.\n",
      "  plt.scatter(X_set[y_set == j, 0], X_set[y_set == j, 1], c = ListedColormap(('red', 'green'))(i), label = j)\n"
     ]
    },
    {
     "data": {
      "text/plain": "<Figure size 640x480 with 1 Axes>",
      "image/png": "[encoded data removed]"
     },
     "metadata": {},
     "output_type": "display_data"
    }
   ],
   "source": [
    "from matplotlib.colors import ListedColormap\n",
    "X_set, y_set = sc.inverse_transform(x_train), y_train\n",
    "X1, X2 = np.meshgrid(np.arange(start = X_set[:, 0].min() - 10, stop = X_set[:, 0].max() + 10, step = 1),\n",
    "                     np.arange(start = X_set[:, 1].min() - 1000, stop = X_set[:, 1].max() + 1000, step = 1))\n",
    "plt.contourf(X1, X2, classifier.predict(sc.transform(np.array([X1.ravel(), X2.ravel()]).T)).reshape(X1.shape),\n",
    "             alpha = 0.75, cmap = ListedColormap(('red', 'green')))\n",
    "plt.xlim(X1.min(), X1.max())\n",
    "plt.ylim(X2.min(), X2.max())\n",
    "for i, j in enumerate(np.unique(y_set)):\n",
    "    plt.scatter(X_set[y_set == j, 0], X_set[y_set == j, 1], c = ListedColormap(('red', 'green'))(i), label = j)\n",
    "plt.title('K-NN (Training set)')\n",
    "plt.xlabel('Age')\n",
    "plt.ylabel('Estimated Salary')\n",
    "plt.legend()\n",
    "plt.show()"
   ],
   "metadata": {
    "collapsed": false,
    "ExecuteTime": {
     "end_time": "2024-05-02T11:50:46.982842Z",
     "start_time": "2024-05-02T11:46:28.966297Z"
    }
   },
   "id": "2c773272dad02051",
   "execution_count": 11
  },
  {
   "cell_type": "markdown",
   "source": [
    "Visualising the Test set result"
   ],
   "metadata": {
    "collapsed": false
   },
   "id": "669cf1cc2a40c0b6"
  },
  {
   "cell_type": "code",
   "outputs": [
    {
     "ename": "MemoryError",
     "evalue": "Unable to allocate 15.4 TiB for an array with shape (4604396087, 460) and data type float64",
     "output_type": "error",
     "traceback": [
      "\u001B[1;31m---------------------------------------------------------------------------\u001B[0m",
      "\u001B[1;31mMemoryError\u001B[0m                               Traceback (most recent call last)",
      "Cell \u001B[1;32mIn[21], line 3\u001B[0m\n\u001B[0;32m      1\u001B[0m \u001B[38;5;28;01mfrom\u001B[39;00m \u001B[38;5;21;01mmatplotlib\u001B[39;00m\u001B[38;5;21;01m.\u001B[39;00m\u001B[38;5;21;01mcolors\u001B[39;00m \u001B[38;5;28;01mimport\u001B[39;00m ListedColormap\n\u001B[0;32m      2\u001B[0m X_set, y_set \u001B[38;5;241m=\u001B[39m sc\u001B[38;5;241m.\u001B[39minverse_transform(x_test), y_test\n\u001B[1;32m----> 3\u001B[0m X1, X2 \u001B[38;5;241m=\u001B[39m \u001B[43mnp\u001B[49m\u001B[38;5;241;43m.\u001B[39;49m\u001B[43mmeshgrid\u001B[49m\u001B[43m(\u001B[49m\u001B[43mnp\u001B[49m\u001B[38;5;241;43m.\u001B[39;49m\u001B[43marange\u001B[49m\u001B[43m(\u001B[49m\u001B[43mstart\u001B[49m\u001B[43m \u001B[49m\u001B[38;5;241;43m=\u001B[39;49m\u001B[43m \u001B[49m\u001B[43mX_set\u001B[49m\u001B[43m[\u001B[49m\u001B[43m:\u001B[49m\u001B[43m,\u001B[49m\u001B[43m \u001B[49m\u001B[38;5;241;43m0\u001B[39;49m\u001B[43m]\u001B[49m\u001B[38;5;241;43m.\u001B[39;49m\u001B[43mmin\u001B[49m\u001B[43m(\u001B[49m\u001B[43m)\u001B[49m\u001B[43m \u001B[49m\u001B[38;5;241;43m-\u001B[39;49m\u001B[43m \u001B[49m\u001B[38;5;241;43m10\u001B[39;49m\u001B[43m,\u001B[49m\u001B[43m \u001B[49m\u001B[43mstop\u001B[49m\u001B[43m \u001B[49m\u001B[38;5;241;43m=\u001B[39;49m\u001B[43m \u001B[49m\u001B[43mX_set\u001B[49m\u001B[43m[\u001B[49m\u001B[43m:\u001B[49m\u001B[43m,\u001B[49m\u001B[43m \u001B[49m\u001B[38;5;241;43m0\u001B[39;49m\u001B[43m]\u001B[49m\u001B[38;5;241;43m.\u001B[39;49m\u001B[43mmax\u001B[49m\u001B[43m(\u001B[49m\u001B[43m)\u001B[49m\u001B[43m \u001B[49m\u001B[38;5;241;43m+\u001B[39;49m\u001B[43m \u001B[49m\u001B[38;5;241;43m10\u001B[39;49m\u001B[43m,\u001B[49m\u001B[43m \u001B[49m\u001B[43mstep\u001B[49m\u001B[43m \u001B[49m\u001B[38;5;241;43m=\u001B[39;49m\u001B[43m \u001B[49m\u001B[38;5;241;43m1\u001B[39;49m\u001B[43m)\u001B[49m\u001B[43m,\u001B[49m\n\u001B[0;32m      4\u001B[0m \u001B[43m                     \u001B[49m\u001B[43mnp\u001B[49m\u001B[38;5;241;43m.\u001B[39;49m\u001B[43marange\u001B[49m\u001B[43m(\u001B[49m\u001B[43mstart\u001B[49m\u001B[43m \u001B[49m\u001B[38;5;241;43m=\u001B[39;49m\u001B[43m \u001B[49m\u001B[43mX_set\u001B[49m\u001B[43m[\u001B[49m\u001B[43m:\u001B[49m\u001B[43m,\u001B[49m\u001B[43m \u001B[49m\u001B[38;5;241;43m1\u001B[39;49m\u001B[43m]\u001B[49m\u001B[38;5;241;43m.\u001B[39;49m\u001B[43mmin\u001B[49m\u001B[43m(\u001B[49m\u001B[43m)\u001B[49m\u001B[43m \u001B[49m\u001B[38;5;241;43m-\u001B[39;49m\u001B[43m \u001B[49m\u001B[38;5;241;43m1000\u001B[39;49m\u001B[43m,\u001B[49m\u001B[43m \u001B[49m\u001B[43mstop\u001B[49m\u001B[43m \u001B[49m\u001B[38;5;241;43m=\u001B[39;49m\u001B[43m \u001B[49m\u001B[43mX_set\u001B[49m\u001B[43m[\u001B[49m\u001B[43m:\u001B[49m\u001B[43m,\u001B[49m\u001B[43m \u001B[49m\u001B[38;5;241;43m1\u001B[39;49m\u001B[43m]\u001B[49m\u001B[38;5;241;43m.\u001B[39;49m\u001B[43mmax\u001B[49m\u001B[43m(\u001B[49m\u001B[43m)\u001B[49m\u001B[43m \u001B[49m\u001B[38;5;241;43m+\u001B[39;49m\u001B[43m \u001B[49m\u001B[38;5;241;43m1000\u001B[39;49m\u001B[43m,\u001B[49m\u001B[43m \u001B[49m\u001B[43mstep\u001B[49m\u001B[43m \u001B[49m\u001B[38;5;241;43m=\u001B[39;49m\u001B[43m \u001B[49m\u001B[38;5;241;43m1\u001B[39;49m\u001B[43m)\u001B[49m\u001B[43m)\u001B[49m\n\u001B[0;32m      5\u001B[0m Z \u001B[38;5;241m=\u001B[39m classifier\u001B[38;5;241m.\u001B[39mpredict(np\u001B[38;5;241m.\u001B[39marray([X1\u001B[38;5;241m.\u001B[39mravel(), X2\u001B[38;5;241m.\u001B[39mravel()])\u001B[38;5;241m.\u001B[39mT)\n\u001B[0;32m      6\u001B[0m Z \u001B[38;5;241m=\u001B[39m Z\u001B[38;5;241m.\u001B[39mreshape(X1\u001B[38;5;241m.\u001B[39mshape)\n",
      "File \u001B[1;32m~\\AppData\\Local\\Programs\\Python\\Python312\\Lib\\site-packages\\numpy\\lib\\function_base.py:5163\u001B[0m, in \u001B[0;36mmeshgrid\u001B[1;34m(copy, sparse, indexing, *xi)\u001B[0m\n\u001B[0;32m   5160\u001B[0m     output \u001B[38;5;241m=\u001B[39m np\u001B[38;5;241m.\u001B[39mbroadcast_arrays(\u001B[38;5;241m*\u001B[39moutput, subok\u001B[38;5;241m=\u001B[39m\u001B[38;5;28;01mTrue\u001B[39;00m)\n\u001B[0;32m   5162\u001B[0m \u001B[38;5;28;01mif\u001B[39;00m copy:\n\u001B[1;32m-> 5163\u001B[0m     output \u001B[38;5;241m=\u001B[39m [\u001B[43mx\u001B[49m\u001B[38;5;241;43m.\u001B[39;49m\u001B[43mcopy\u001B[49m\u001B[43m(\u001B[49m\u001B[43m)\u001B[49m \u001B[38;5;28;01mfor\u001B[39;00m x \u001B[38;5;129;01min\u001B[39;00m output]\n\u001B[0;32m   5165\u001B[0m \u001B[38;5;28;01mreturn\u001B[39;00m output\n",
      "\u001B[1;31mMemoryError\u001B[0m: Unable to allocate 15.4 TiB for an array with shape (4604396087, 460) and data type float64"
     ]
    }
   ],
   "source": [
    "from matplotlib.colors import ListedColormap\n",
    "X_set, y_set = sc.inverse_transform(x_test), y_test\n",
    "X1, X2 = np.meshgrid(np.arange(start = X_set[:, 0].min() - 10, stop = X_set[:, 0].max() + 10, step = 1),\n",
    "                     np.arange(start = X_set[:, 1].min() - 1000, stop = X_set[:, 1].max() + 1000, step = 1))\n",
    "Z = classifier.predict(np.array([X1.ravel(), X2.ravel()]).T)\n",
    "Z = Z.reshape(X1.shape)\n",
    "Z.shape\n",
    "# plt.contourf(X1, X2, Z,\n",
    "#              alpha = 0.75, cmap = ListedColormap(('red', 'green')))\n",
    "# plt.xlim(X1.min(), X1.max())\n",
    "# plt.ylim(X2.min(), X2.max())\n",
    "# for i, j in enumerate(np.unique(y_set)):\n",
    "#     plt.scatter(X_set[y_set == j, 0], X_set[y_set == j, 1], c = ListedColormap(('red', 'green'))(i), label = j)\n",
    "# plt.title('K-NN (Test set)')\n",
    "# plt.xlabel('Age')\n",
    "# plt.ylabel('Estimated Salary')\n",
    "# plt.legend()\n",
    "# plt.show()"
   ],
   "metadata": {
    "collapsed": false,
    "ExecuteTime": {
     "end_time": "2024-05-02T12:46:19.519146Z",
     "start_time": "2024-05-02T12:45:51.451683Z"
    }
   },
   "id": "18dfd27308f2daa",
   "execution_count": 21
  }
 ],
 "metadata": {
  "kernelspec": {
   "display_name": "Python 3",
   "language": "python",
   "name": "python3"
  },
  "language_info": {
   "codemirror_mode": {
    "name": "ipython",
    "version": 2
   },
   "file_extension": ".py",
   "mimetype": "text/x-python",
   "name": "python",
   "nbconvert_exporter": "python",
   "pygments_lexer": "ipython2",
   "version": "2.7.6"
  }
 },
 "nbformat": 4,
 "nbformat_minor": 5
}
